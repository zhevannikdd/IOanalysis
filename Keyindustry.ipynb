{
 "cells": [
  {
   "cell_type": "code",
   "execution_count": 1,
   "metadata": {},
   "outputs": [],
   "source": [
    "import numpy as np\n",
    "import pandas as pd\n",
    "T15=np.loadtxt('data/Eora26_2016_bp_T.txt') #Matrix transaction\n",
    "FD15=np.loadtxt('data/Eora26_2016_bp_FD.txt')# Final demand block\n",
    "T15=np.delete(T15, 3599, 1)# KOR recycle\n",
    "T15=np.delete(T15, 3599, 0)# KOR recycle\n",
    "FD15=np.delete(FD15, 3599, 0)# KOR recycle\n",
    "x15=np.sum(T15, axis= 1)+np.sum(FD15, axis=1)# Output\n",
    "A15=T15/x15 #Tech matrix\n",
    "L15 = np.linalg.inv(np.identity(len(A15))-A15)# leontiev inverse\n",
    "il15=np.sum(L15, axis=0)#sum column\n",
    "f15=np.sum(FD15, axis=1)#Final Demand indutry\n",
    "w15=il15*f15/np.sum(f15)#weight of industry\n",
    "df15 = pd.DataFrame(w15)# dataframe\n",
    "df15.to_excel('weight2016.xlsx')# save excel"
   ]
  },
  {
   "cell_type": "code",
   "execution_count": null,
   "metadata": {},
   "outputs": [],
   "source": []
  }
 ],
 "metadata": {
  "kernelspec": {
   "display_name": "Python 3",
   "language": "python",
   "name": "python3"
  },
  "language_info": {
   "codemirror_mode": {
    "name": "ipython",
    "version": 3
   },
   "file_extension": ".py",
   "mimetype": "text/x-python",
   "name": "python",
   "nbconvert_exporter": "python",
   "pygments_lexer": "ipython3",
   "version": "3.7.6"
  }
 },
 "nbformat": 4,
 "nbformat_minor": 4
}
